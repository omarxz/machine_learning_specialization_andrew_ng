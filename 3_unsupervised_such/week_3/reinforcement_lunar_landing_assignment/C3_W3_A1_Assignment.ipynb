{
 "cells": [
  {
   "cell_type": "markdown",
   "metadata": {},
   "source": [
    "# Deep Q-Learning - Lunar Lander\n",
    "\n",
    "In this assignment, you will train an agent to land a lunar lander safely on a landing pad on the surface of the moon.\n",
    "\n",
    "\n",
    "# Outline\n",
    "- [ 1 - Import Packages <img align=\"Right\" src=\"./images/lunar_lander.gif\" width = 60% >](#1)\n",
    "- [ 2 - Hyperparameters](#2)\n",
    "- [ 3 - The Lunar Lander Environment](#3)\n",
    "  - [ 3.1 Action Space](#3.1)\n",
    "  - [ 3.2 Observation Space](#3.2)\n",
    "  - [ 3.3 Rewards](#3.3)\n",
    "  - [ 3.4 Episode Termination](#3.4)\n",
    "- [ 4 - Load the Environment](#4)\n",
    "- [ 5 - Interacting with the Gym Environment](#5)\n",
    "    - [ 5.1 Exploring the Environment's Dynamics](#5.1)\n",
    "- [ 6 - Deep Q-Learning](#6)\n",
    "  - [ 6.1 Target Network](#6.1)\n",
    "    - [ Exercise 1](#ex01)\n",
    "  - [ 6.2 Experience Replay](#6.2)\n",
    "- [ 7 - Deep Q-Learning Algorithm with Experience Replay](#7)\n",
    "  - [ Exercise 2](#ex02)\n",
    "- [ 8 - Update the Network Weights](#8)\n",
    "- [ 9 - Train the Agent](#9)\n",
    "- [ 10 - See the Trained Agent In Action](#10)\n",
    "- [ 11 - Congratulations!](#11)\n",
    "- [ 12 - References](#12)\n"
   ]
  },
  {
   "cell_type": "markdown",
   "metadata": {},
   "source": [
    "_**NOTE:** To prevent errors from the autograder, you are not allowed to edit or delete non-graded cells in this lab. Please also refrain from adding any new cells. \n",
    "**Once you have passed this assignment** and want to experiment with any of the non-graded code, you may follow the instructions at the bottom of this notebook._"
   ]
  },
  {
   "cell_type": "markdown",
   "metadata": {},
   "source": [
    "<a name=\"1\"></a>\n",
    "## 1 - Import Packages\n",
    "\n",
    "We'll make use of the following packages:\n",
    "- `numpy` is a package for scientific computing in python.\n",
    "- `deque` will be our data structure for our memory buffer.\n",
    "- `namedtuple` will be used to store the experience tuples.\n",
    "- The `gym` toolkit is a collection of environments that can be used to test reinforcement learning algorithms. We should note that in this notebook we are using `gym` version `0.24.0`.\n",
    "- `PIL.Image` and `pyvirtualdisplay` are needed to render the Lunar Lander environment.\n",
    "- We will use several modules from the `tensorflow.keras` framework for building deep learning models.\n",
    "- `utils` is a module that contains helper functions for this assignment. You do not need to modify the code in this file.\n",
    "\n",
    "Run the cell below to import all the necessary packages."
   ]
  },
  {
   "cell_type": "code",
   "execution_count": 1,
   "metadata": {
    "deletable": false,
    "editable": false,
    "id": "KYbOPKRtfQOr"
   },
   "outputs": [],
   "source": [
    "import time\n",
    "from collections import deque, namedtuple\n",
    "\n",
    "import gym\n",
    "import numpy as np\n",
    "import PIL.Image\n",
    "import tensorflow as tf\n",
    "import utils\n",
    "\n",
    "from pyvirtualdisplay import Display\n",
    "from tensorflow.keras import Sequential\n",
    "from tensorflow.keras.layers import Dense, Input\n",
    "from tensorflow.keras.losses import MSE\n",
    "from tensorflow.keras.optimizers import Adam"
   ]
  },
  {
   "cell_type": "code",
   "execution_count": 2,
   "metadata": {
    "deletable": false,
    "editable": false
   },
   "outputs": [],
   "source": [
    "# Set up a virtual display to render the Lunar Lander environment.\n",
    "Display(visible=0, size=(840, 480)).start();\n",
    "\n",
    "# Set the random seed for TensorFlow\n",
    "tf.random.set_seed(utils.SEED)"
   ]
  },
  {
   "cell_type": "markdown",
   "metadata": {},
   "source": [
    "<a name=\"2\"></a>\n",
    "## 2 - Hyperparameters\n",
    "\n",
    "Run the cell below to set the hyperparameters."
   ]
  },
  {
   "cell_type": "code",
   "execution_count": 3,
   "metadata": {
    "deletable": false,
    "editable": false
   },
   "outputs": [],
   "source": [
    "MEMORY_SIZE = 100_000     # size of memory buffer\n",
    "GAMMA = 0.995             # discount factor\n",
    "ALPHA = 1e-3              # learning rate  \n",
    "NUM_STEPS_FOR_UPDATE = 4  # perform a learning update every C time steps"
   ]
  },
  {
   "cell_type": "markdown",
   "metadata": {},
   "source": [
    "<a name=\"3\"></a>\n",
    "## 3 - The Lunar Lander Environment\n",
    "\n",
    "In this notebook we will be using [OpenAI's Gym Library](https://www.gymlibrary.dev/). The Gym library provides a wide variety of environments for reinforcement learning. To put it simply, an environment represents a problem or task to be solved. In this notebook, we will try to solve the Lunar Lander environment using reinforcement learning.\n",
    "\n",
    "The goal of the Lunar Lander environment is to land the lunar lander safely on the landing pad on the surface of the moon. The landing pad is designated by two flag poles and its center is at coordinates `(0,0)` but the lander is also allowed to land outside of the landing pad. The lander starts at the top center of the environment with a random initial force applied to its center of mass and has infinite fuel. The environment is considered solved if you get `200` points. \n",
    "\n",
    "<br>\n",
    "<br>\n",
    "<figure>\n",
    "  <img src = \"images/lunar_lander.gif\" width = 40%>\n",
    "      <figcaption style = \"text-align: center; font-style: italic\">Fig 1. Lunar Lander Environment.</figcaption>\n",
    "</figure>\n",
    "\n",
    "\n",
    "\n",
    "<a name=\"3.1\"></a>\n",
    "### 3.1 Action Space\n",
    "\n",
    "The agent has four discrete actions available:\n",
    "\n",
    "* Do nothing.\n",
    "* Fire right engine.\n",
    "* Fire main engine.\n",
    "* Fire left engine.\n",
    "\n",
    "Each action has a corresponding numerical value:\n",
    "\n",
    "```python\n",
    "Do nothing = 0\n",
    "Fire right engine = 1\n",
    "Fire main engine = 2\n",
    "Fire left engine = 3\n",
    "```\n",
    "\n",
    "<a name=\"3.2\"></a>\n",
    "### 3.2 Observation Space\n",
    "\n",
    "The agent's observation space consists of a state vector with 8 variables:\n",
    "\n",
    "* Its $(x,y)$ coordinates. The landing pad is always at coordinates $(0,0)$.\n",
    "* Its linear velocities $(\\dot x,\\dot y)$.\n",
    "* Its angle $\\theta$.\n",
    "* Its angular velocity $\\dot \\theta$.\n",
    "* Two booleans, $l$ and $r$, that represent whether each leg is in contact with the ground or not.\n",
    "\n",
    "<a name=\"3.3\"></a>\n",
    "### 3.3 Rewards\n",
    "\n",
    "After every step, a reward is granted. The total reward of an episode is the sum of the rewards for all the steps within that episode.\n",
    "\n",
    "For each step, the reward:\n",
    "- is increased/decreased the closer/further the lander is to the landing pad.\n",
    "- is increased/decreased the slower/faster the lander is moving.\n",
    "- is decreased the more the lander is tilted (angle not horizontal).\n",
    "- is increased by 10 points for each leg that is in contact with the ground.\n",
    "- is decreased by 0.03 points each frame a side engine is firing.\n",
    "- is decreased by 0.3 points each frame the main engine is firing.\n",
    "\n",
    "The episode receives an additional reward of -100 or +100 points for crashing or landing safely respectively.\n",
    "\n",
    "<a name=\"3.4\"></a>\n",
    "### 3.4 Episode Termination\n",
    "\n",
    "An episode ends (i.e the environment enters a terminal state) if:\n",
    "\n",
    "* The lunar lander crashes (i.e if the body of the lunar lander comes in contact with the surface of the moon).\n",
    "\n",
    "* The absolute value of the lander's $x$-coordinate is greater than 1 (i.e. it goes beyond the left or right border)\n",
    "\n",
    "You can check out the [Open AI Gym documentation](https://www.gymlibrary.dev/environments/box2d/lunar_lander/) for a full description of the environment. "
   ]
  },
  {
   "cell_type": "markdown",
   "metadata": {},
   "source": [
    "<a name=\"4\"></a>\n",
    "## 4 - Load the Environment\n",
    "\n",
    "We start by loading the `LunarLander-v2` environment from the `gym` library by using the `.make()` method. `LunarLander-v2` is the latest version of the Lunar Lander environment and you can read about its version history in the [Open AI Gym documentation](https://www.gymlibrary.dev/environments/box2d/lunar_lander/#version-history)."
   ]
  },
  {
   "cell_type": "code",
   "execution_count": 4,
   "metadata": {
    "deletable": false,
    "editable": false,
    "id": "ILVMYKewfR0n"
   },
   "outputs": [],
   "source": [
    "env = gym.make('LunarLander-v2')"
   ]
  },
  {
   "cell_type": "markdown",
   "metadata": {},
   "source": [
    "Once we load the environment we use the `.reset()` method to reset the environment to the initial state. The lander starts at the top center of the environment and we can render the first frame of the environment by using the `.render()` method."
   ]
  },
  {
   "cell_type": "code",
   "execution_count": 5,
   "metadata": {
    "deletable": false,
    "editable": false
   },
   "outputs": [
    {
     "data": {
      "image/png": "[encoded data removed]",
      "text/plain": [
       "<PIL.Image.Image image mode=RGB size=600x400 at 0x7F4385EBDD10>"
      ]
     },
     "execution_count": 5,
     "metadata": {},
     "output_type": "execute_result"
    }
   ],
   "source": [
    "env.reset()\n",
    "PIL.Image.fromarray(env.render(mode='rgb_array'))"
   ]
  },
  {
   "cell_type": "markdown",
   "metadata": {},
   "source": [
    "In order to build our neural network later on we need to know the size of the state vector and the number of valid actions. We can get this information from our environment by using the `.observation_space.shape` and `action_space.n` methods, respectively."
   ]
  },
  {
   "cell_type": "code",
   "execution_count": 6,
   "metadata": {
    "deletable": false,
    "editable": false,
    "id": "x3fdqdG4CUu2"
   },
   "outputs": [
    {
     "name": "stdout",
     "output_type": "stream",
     "text": [
      "State Shape: (8,)\n",
      "Number of actions: 4\n"
     ]
    }
   ],
   "source": [
    "state_size = env.observation_space.shape\n",
    "num_actions = env.action_space.n\n",
    "\n",
    "print('State Shape:', state_size)\n",
    "print('Number of actions:', num_actions)"
   ]
  },
  {
   "cell_type": "markdown",
   "metadata": {},
   "source": [
    "<a name=\"5\"></a>\n",
    "## 5 - Interacting with the Gym Environment\n",
    "\n",
    "The Gym library implements the standard “agent-environment loop” formalism:\n",
    "\n",
    "<br>\n",
    "<center>\n",
    "<video src = \"./videos/rl_formalism.m4v\" width=\"840\" height=\"480\" controls autoplay loop poster=\"./images/rl_formalism.png\"> </video>\n",
    "<figcaption style = \"text-align:center; font-style:italic\">Fig 2. Agent-environment Loop Formalism.</figcaption>\n",
    "</center>\n",
    "<br>\n",
    "\n",
    "In the standard “agent-environment loop” formalism, an agent interacts with the environment in discrete time steps $t=0,1,2,...$. At each time step $t$, the agent uses a policy $\\pi$ to select an action $A_t$ based on its observation of the environment's state $S_t$. The agent receives a numerical reward $R_t$ and on the next time step, moves to a new state $S_{t+1}$.\n",
    "\n",
    "<a name=\"5.1\"></a>\n",
    "### 5.1 Exploring the Environment's Dynamics\n",
    "\n",
    "In Open AI's Gym environments, we use the `.step()` method to run a single time step of the environment's dynamics. In the version of `gym` that we are using the `.step()` method accepts an action and returns four values:\n",
    "\n",
    "* `observation` (**object**): an environment-specific object representing your observation of the environment. In the Lunar Lander environment this corresponds to a numpy array containing the positions and velocities of the lander as described in section [3.2 Observation Space](#3.2).\n",
    "\n",
    "\n",
    "* `reward` (**float**): amount of reward returned as a result of taking the given action. In the Lunar Lander environment this corresponds to a float of type `numpy.float64` as described in section [3.3 Rewards](#3.3).\n",
    "\n",
    "\n",
    "* `done` (**boolean**): When done is `True`, it indicates the episode has terminated and it’s time to reset the environment. \n",
    "\n",
    "\n",
    "* `info` (**dictionary**): diagnostic information useful for debugging. We won't be using this variable in this notebook but it is shown here for completeness.\n",
    "\n",
    "To begin an episode, we need to reset the environment to an initial state. We do this by using the `.reset()` method. "
   ]
  },
  {
   "cell_type": "code",
   "execution_count": 7,
   "metadata": {
    "deletable": false,
    "editable": false
   },
   "outputs": [],
   "source": [
    "# Reset the environment and get the initial state.\n",
    "current_state = env.reset()"
   ]
  },
  {
   "cell_type": "markdown",
   "metadata": {},
   "source": [
    "Once the environment is reset, the agent can start taking actions in the environment by using the `.step()` method. Note that the agent can only take one action per time step. \n",
    "\n",
    "In the cell below you can select different actions and see how the returned values change depending on the action taken. Remember that in this environment the agent has four discrete actions available and we specify them in code by using their corresponding numerical value:\n",
    "\n",
    "```python\n",
    "Do nothing = 0\n",
    "Fire right engine = 1\n",
    "Fire main engine = 2\n",
    "Fire left engine = 3\n",
    "```"
   ]
  },
  {
   "cell_type": "code",
   "execution_count": 21,
   "metadata": {
    "deletable": false
   },
   "outputs": [
    {
     "data": {
      "text/html": [
       "<style  type=\"text/css\" >\n",
       "    #T_9db490ea_60ff_11ee_9adb_0242ac120016 th {\n",
       "          border: 1px solid grey;\n",
       "          text-align: center;\n",
       "    }    #T_9db490ea_60ff_11ee_9adb_0242ac120016 tbody td {\n",
       "          border: 1px solid grey;\n",
       "          text-align: center;\n",
       "    }    #T_9db490ea_60ff_11ee_9adb_0242ac120016row0_col0 {\n",
       "            background-color :  grey;\n",
       "        }    #T_9db490ea_60ff_11ee_9adb_0242ac120016row1_col1 {\n",
       "            background-color :  grey;\n",
       "        }    #T_9db490ea_60ff_11ee_9adb_0242ac120016row1_col2 {\n",
       "            background-color :  grey;\n",
       "        }    #T_9db490ea_60ff_11ee_9adb_0242ac120016row1_col3 {\n",
       "            background-color :  grey;\n",
       "        }    #T_9db490ea_60ff_11ee_9adb_0242ac120016row1_col4 {\n",
       "            background-color :  grey;\n",
       "        }    #T_9db490ea_60ff_11ee_9adb_0242ac120016row1_col5 {\n",
       "            background-color :  grey;\n",
       "        }    #T_9db490ea_60ff_11ee_9adb_0242ac120016row1_col6 {\n",
       "            background-color :  grey;\n",
       "        }    #T_9db490ea_60ff_11ee_9adb_0242ac120016row1_col7 {\n",
       "            background-color :  grey;\n",
       "        }    #T_9db490ea_60ff_11ee_9adb_0242ac120016row1_col8 {\n",
       "            background-color :  grey;\n",
       "        }    #T_9db490ea_60ff_11ee_9adb_0242ac120016row1_col9 {\n",
       "            background-color :  grey;\n",
       "        }    #T_9db490ea_60ff_11ee_9adb_0242ac120016row1_col10 {\n",
       "            background-color :  grey;\n",
       "        }    #T_9db490ea_60ff_11ee_9adb_0242ac120016row1_col11 {\n",
       "            background-color :  grey;\n",
       "        }    #T_9db490ea_60ff_11ee_9adb_0242ac120016row2_col0 {\n",
       "            background-color :  grey;\n",
       "        }    #T_9db490ea_60ff_11ee_9adb_0242ac120016row3_col1 {\n",
       "            background-color :  grey;\n",
       "        }    #T_9db490ea_60ff_11ee_9adb_0242ac120016row3_col2 {\n",
       "            background-color :  grey;\n",
       "        }    #T_9db490ea_60ff_11ee_9adb_0242ac120016row3_col3 {\n",
       "            background-color :  grey;\n",
       "        }    #T_9db490ea_60ff_11ee_9adb_0242ac120016row3_col4 {\n",
       "            background-color :  grey;\n",
       "        }    #T_9db490ea_60ff_11ee_9adb_0242ac120016row3_col5 {\n",
       "            background-color :  grey;\n",
       "        }    #T_9db490ea_60ff_11ee_9adb_0242ac120016row3_col6 {\n",
       "            background-color :  grey;\n",
       "        }    #T_9db490ea_60ff_11ee_9adb_0242ac120016row3_col7 {\n",
       "            background-color :  grey;\n",
       "        }    #T_9db490ea_60ff_11ee_9adb_0242ac120016row3_col8 {\n",
       "            background-color :  grey;\n",
       "        }    #T_9db490ea_60ff_11ee_9adb_0242ac120016row3_col9 {\n",
       "            background-color :  grey;\n",
       "        }    #T_9db490ea_60ff_11ee_9adb_0242ac120016row3_col10 {\n",
       "            background-color :  grey;\n",
       "        }    #T_9db490ea_60ff_11ee_9adb_0242ac120016row3_col11 {\n",
       "            background-color :  grey;\n",
       "        }    #T_9db490ea_60ff_11ee_9adb_0242ac120016row4_col1 {\n",
       "            background-color :  grey;\n",
       "        }    #T_9db490ea_60ff_11ee_9adb_0242ac120016row4_col2 {\n",
       "            background-color :  grey;\n",
       "        }    #T_9db490ea_60ff_11ee_9adb_0242ac120016row4_col3 {\n",
       "            background-color :  grey;\n",
       "        }    #T_9db490ea_60ff_11ee_9adb_0242ac120016row4_col4 {\n",
       "            background-color :  grey;\n",
       "        }    #T_9db490ea_60ff_11ee_9adb_0242ac120016row4_col5 {\n",
       "            background-color :  grey;\n",
       "        }    #T_9db490ea_60ff_11ee_9adb_0242ac120016row4_col6 {\n",
       "            background-color :  grey;\n",
       "        }    #T_9db490ea_60ff_11ee_9adb_0242ac120016row4_col7 {\n",
       "            background-color :  grey;\n",
       "        }    #T_9db490ea_60ff_11ee_9adb_0242ac120016row4_col8 {\n",
       "            background-color :  grey;\n",
       "        }    #T_9db490ea_60ff_11ee_9adb_0242ac120016row4_col9 {\n",
       "            background-color :  grey;\n",
       "        }    #T_9db490ea_60ff_11ee_9adb_0242ac120016row4_col10 {\n",
       "            background-color :  grey;\n",
       "        }    #T_9db490ea_60ff_11ee_9adb_0242ac120016row4_col11 {\n",
       "            background-color :  grey;\n",
       "        }</style><table id=\"T_9db490ea_60ff_11ee_9adb_0242ac120016\" ><thead>    <tr>        <th class=\"blank level0\" ></th>        <th class=\"col_heading level0 col0\" ></th>        <th class=\"col_heading level0 col1\" colspan=8>State Vector</th>        <th class=\"col_heading level0 col9\" colspan=3>Derived from the State Vector (the closer to zero, the better)</th>    </tr>    <tr>        <th class=\"blank level1\" ></th>        <th class=\"col_heading level1 col0\" ></th>        <th class=\"col_heading level1 col1\" colspan=2>Coordinate</th>        <th class=\"col_heading level1 col3\" colspan=2>Velocity</th>        <th class=\"col_heading level1 col5\" colspan=2>Tilting</th>        <th class=\"col_heading level1 col7\" colspan=2>Ground contact</th>        <th class=\"col_heading level1 col9\" >Distance from landing pad</th>        <th class=\"col_heading level1 col10\" >Velocity</th>        <th class=\"col_heading level1 col11\" >Tilting Angle (absolute value)</th>    </tr>    <tr>        <th class=\"blank level2\" ></th>        <th class=\"col_heading level2 col0\" ></th>        <th class=\"col_heading level2 col1\" >X (Horizontal)</th>        <th class=\"col_heading level2 col2\" >Y (Vertical)</th>        <th class=\"col_heading level2 col3\" >X (Horizontal)</th>        <th class=\"col_heading level2 col4\" >Y (Vertical)</th>        <th class=\"col_heading level2 col5\" >Angle</th>        <th class=\"col_heading level2 col6\" >Angular Velocity</th>        <th class=\"col_heading level2 col7\" >Left Leg?</th>        <th class=\"col_heading level2 col8\" >Right Leg?</th>        <th class=\"col_heading level2 col9\" ></th>        <th class=\"col_heading level2 col10\" ></th>        <th class=\"col_heading level2 col11\" ></th>    </tr></thead><tbody>\n",
       "                <tr>\n",
       "                        <th id=\"T_9db490ea_60ff_11ee_9adb_0242ac120016level0_row0\" class=\"row_heading level0 row0\" >Current State</th>\n",
       "                        <td id=\"T_9db490ea_60ff_11ee_9adb_0242ac120016row0_col0\" class=\"data row0 col0\" ></td>\n",
       "                        <td id=\"T_9db490ea_60ff_11ee_9adb_0242ac120016row0_col1\" class=\"data row0 col1\" >0.029430</td>\n",
       "                        <td id=\"T_9db490ea_60ff_11ee_9adb_0242ac120016row0_col2\" class=\"data row0 col2\" >1.541272</td>\n",
       "                        <td id=\"T_9db490ea_60ff_11ee_9adb_0242ac120016row0_col3\" class=\"data row0 col3\" >0.228681</td>\n",
       "                        <td id=\"T_9db490ea_60ff_11ee_9adb_0242ac120016row0_col4\" class=\"data row0 col4\" >0.315070</td>\n",
       "                        <td id=\"T_9db490ea_60ff_11ee_9adb_0242ac120016row0_col5\" class=\"data row0 col5\" >-0.003522</td>\n",
       "                        <td id=\"T_9db490ea_60ff_11ee_9adb_0242ac120016row0_col6\" class=\"data row0 col6\" >-0.045833</td>\n",
       "                        <td id=\"T_9db490ea_60ff_11ee_9adb_0242ac120016row0_col7\" class=\"data row0 col7\" >False</td>\n",
       "                        <td id=\"T_9db490ea_60ff_11ee_9adb_0242ac120016row0_col8\" class=\"data row0 col8\" >False</td>\n",
       "                        <td id=\"T_9db490ea_60ff_11ee_9adb_0242ac120016row0_col9\" class=\"data row0 col9\" >1.541553</td>\n",
       "                        <td id=\"T_9db490ea_60ff_11ee_9adb_0242ac120016row0_col10\" class=\"data row0 col10\" >0.389312</td>\n",
       "                        <td id=\"T_9db490ea_60ff_11ee_9adb_0242ac120016row0_col11\" class=\"data row0 col11\" >0.003522</td>\n",
       "            </tr>\n",
       "            <tr>\n",
       "                        <th id=\"T_9db490ea_60ff_11ee_9adb_0242ac120016level0_row1\" class=\"row_heading level0 row1\" >Action</th>\n",
       "                        <td id=\"T_9db490ea_60ff_11ee_9adb_0242ac120016row1_col0\" class=\"data row1 col0\" >Fire right engine</td>\n",
       "                        <td id=\"T_9db490ea_60ff_11ee_9adb_0242ac120016row1_col1\" class=\"data row1 col1\" ></td>\n",
       "                        <td id=\"T_9db490ea_60ff_11ee_9adb_0242ac120016row1_col2\" class=\"data row1 col2\" ></td>\n",
       "                        <td id=\"T_9db490ea_60ff_11ee_9adb_0242ac120016row1_col3\" class=\"data row1 col3\" ></td>\n",
       "                        <td id=\"T_9db490ea_60ff_11ee_9adb_0242ac120016row1_col4\" class=\"data row1 col4\" ></td>\n",
       "                        <td id=\"T_9db490ea_60ff_11ee_9adb_0242ac120016row1_col5\" class=\"data row1 col5\" ></td>\n",
       "                        <td id=\"T_9db490ea_60ff_11ee_9adb_0242ac120016row1_col6\" class=\"data row1 col6\" ></td>\n",
       "                        <td id=\"T_9db490ea_60ff_11ee_9adb_0242ac120016row1_col7\" class=\"data row1 col7\" ></td>\n",
       "                        <td id=\"T_9db490ea_60ff_11ee_9adb_0242ac120016row1_col8\" class=\"data row1 col8\" ></td>\n",
       "                        <td id=\"T_9db490ea_60ff_11ee_9adb_0242ac120016row1_col9\" class=\"data row1 col9\" ></td>\n",
       "                        <td id=\"T_9db490ea_60ff_11ee_9adb_0242ac120016row1_col10\" class=\"data row1 col10\" ></td>\n",
       "                        <td id=\"T_9db490ea_60ff_11ee_9adb_0242ac120016row1_col11\" class=\"data row1 col11\" ></td>\n",
       "            </tr>\n",
       "            <tr>\n",
       "                        <th id=\"T_9db490ea_60ff_11ee_9adb_0242ac120016level0_row2\" class=\"row_heading level0 row2\" >Next State</th>\n",
       "                        <td id=\"T_9db490ea_60ff_11ee_9adb_0242ac120016row2_col0\" class=\"data row2 col0\" ></td>\n",
       "                        <td id=\"T_9db490ea_60ff_11ee_9adb_0242ac120016row2_col1\" class=\"data row2 col1\" >0.031632</td>\n",
       "                        <td id=\"T_9db490ea_60ff_11ee_9adb_0242ac120016row2_col2\" class=\"data row2 col2\" >1.547760</td>\n",
       "                        <td id=\"T_9db490ea_60ff_11ee_9adb_0242ac120016row2_col3\" class=\"data row2 col3\" >0.220924</td>\n",
       "                        <td id=\"T_9db490ea_60ff_11ee_9adb_0242ac120016row2_col4\" class=\"data row2 col4\" >0.288358</td>\n",
       "                        <td id=\"T_9db490ea_60ff_11ee_9adb_0242ac120016row2_col5\" class=\"data row2 col5\" >-0.004258</td>\n",
       "                        <td id=\"T_9db490ea_60ff_11ee_9adb_0242ac120016row2_col6\" class=\"data row2 col6\" >-0.014714</td>\n",
       "                        <td id=\"T_9db490ea_60ff_11ee_9adb_0242ac120016row2_col7\" class=\"data row2 col7\" >False</td>\n",
       "                        <td id=\"T_9db490ea_60ff_11ee_9adb_0242ac120016row2_col8\" class=\"data row2 col8\" >False</td>\n",
       "                        <td id=\"T_9db490ea_60ff_11ee_9adb_0242ac120016row2_col9\" class=\"data row2 col9\" >1.548084</td>\n",
       "                        <td id=\"T_9db490ea_60ff_11ee_9adb_0242ac120016row2_col10\" class=\"data row2 col10\" >0.363260</td>\n",
       "                        <td id=\"T_9db490ea_60ff_11ee_9adb_0242ac120016row2_col11\" class=\"data row2 col11\" >0.004258</td>\n",
       "            </tr>\n",
       "            <tr>\n",
       "                        <th id=\"T_9db490ea_60ff_11ee_9adb_0242ac120016level0_row3\" class=\"row_heading level0 row3\" >Reward</th>\n",
       "                        <td id=\"T_9db490ea_60ff_11ee_9adb_0242ac120016row3_col0\" class=\"data row3 col0\" >1.848657</td>\n",
       "                        <td id=\"T_9db490ea_60ff_11ee_9adb_0242ac120016row3_col1\" class=\"data row3 col1\" ></td>\n",
       "                        <td id=\"T_9db490ea_60ff_11ee_9adb_0242ac120016row3_col2\" class=\"data row3 col2\" ></td>\n",
       "                        <td id=\"T_9db490ea_60ff_11ee_9adb_0242ac120016row3_col3\" class=\"data row3 col3\" ></td>\n",
       "                        <td id=\"T_9db490ea_60ff_11ee_9adb_0242ac120016row3_col4\" class=\"data row3 col4\" ></td>\n",
       "                        <td id=\"T_9db490ea_60ff_11ee_9adb_0242ac120016row3_col5\" class=\"data row3 col5\" ></td>\n",
       "                        <td id=\"T_9db490ea_60ff_11ee_9adb_0242ac120016row3_col6\" class=\"data row3 col6\" ></td>\n",
       "                        <td id=\"T_9db490ea_60ff_11ee_9adb_0242ac120016row3_col7\" class=\"data row3 col7\" ></td>\n",
       "                        <td id=\"T_9db490ea_60ff_11ee_9adb_0242ac120016row3_col8\" class=\"data row3 col8\" ></td>\n",
       "                        <td id=\"T_9db490ea_60ff_11ee_9adb_0242ac120016row3_col9\" class=\"data row3 col9\" ></td>\n",
       "                        <td id=\"T_9db490ea_60ff_11ee_9adb_0242ac120016row3_col10\" class=\"data row3 col10\" ></td>\n",
       "                        <td id=\"T_9db490ea_60ff_11ee_9adb_0242ac120016row3_col11\" class=\"data row3 col11\" ></td>\n",
       "            </tr>\n",
       "            <tr>\n",
       "                        <th id=\"T_9db490ea_60ff_11ee_9adb_0242ac120016level0_row4\" class=\"row_heading level0 row4\" >Episode Terminated</th>\n",
       "                        <td id=\"T_9db490ea_60ff_11ee_9adb_0242ac120016row4_col0\" class=\"data row4 col0\" >False</td>\n",
       "                        <td id=\"T_9db490ea_60ff_11ee_9adb_0242ac120016row4_col1\" class=\"data row4 col1\" ></td>\n",
       "                        <td id=\"T_9db490ea_60ff_11ee_9adb_0242ac120016row4_col2\" class=\"data row4 col2\" ></td>\n",
       "                        <td id=\"T_9db490ea_60ff_11ee_9adb_0242ac120016row4_col3\" class=\"data row4 col3\" ></td>\n",
       "                        <td id=\"T_9db490ea_60ff_11ee_9adb_0242ac120016row4_col4\" class=\"data row4 col4\" ></td>\n",
       "                        <td id=\"T_9db490ea_60ff_11ee_9adb_0242ac120016row4_col5\" class=\"data row4 col5\" ></td>\n",
       "                        <td id=\"T_9db490ea_60ff_11ee_9adb_0242ac120016row4_col6\" class=\"data row4 col6\" ></td>\n",
       "                        <td id=\"T_9db490ea_60ff_11ee_9adb_0242ac120016row4_col7\" class=\"data row4 col7\" ></td>\n",
       "                        <td id=\"T_9db490ea_60ff_11ee_9adb_0242ac120016row4_col8\" class=\"data row4 col8\" ></td>\n",
       "                        <td id=\"T_9db490ea_60ff_11ee_9adb_0242ac120016row4_col9\" class=\"data row4 col9\" ></td>\n",
       "                        <td id=\"T_9db490ea_60ff_11ee_9adb_0242ac120016row4_col10\" class=\"data row4 col10\" ></td>\n",
       "                        <td id=\"T_9db490ea_60ff_11ee_9adb_0242ac120016row4_col11\" class=\"data row4 col11\" ></td>\n",
       "            </tr>\n",
       "    </tbody></table>"
      ],
      "text/plain": [
       "<pandas.io.formats.style.Styler at 0x7f441510b710>"
      ]
     },
     "metadata": {},
     "output_type": "display_data"
    }
   ],
   "source": [
    "# Select an action\n",
    "action = 1\n",
    "\n",
    "# Run a single time step of the environment's dynamics with the given action.\n",
    "next_state, reward, done, _ = env.step(action)\n",
    "\n",
    "# Display table with values.\n",
    "utils.display_table(current_state, action, next_state, reward, done)\n",
    "\n",
    "# Replace the `current_state` with the state after the action is taken\n",
    "current_state = next_state"
   ]
  },
  {
   "cell_type": "markdown",
   "metadata": {},
   "source": [
    "In practice, when we train the agent we use a loop to allow the agent to take many consecutive actions during an episode."
   ]
  },
  {
   "cell_type": "markdown",
   "metadata": {},
   "source": [
    "<a name=\"6\"></a>\n",
    "## 6 - Deep Q-Learning\n",
    "\n",
    "In cases where both the state and action space are discrete we can estimate the action-value function iteratively by using the Bellman equation:\n",
    "\n",
    "$$\n",
    "Q_{i+1}(s,a) = R + \\gamma \\max_{a'}Q_i(s',a')\n",
    "$$\n",
    "\n",
    "This iterative method converges to the optimal action-value function $Q^*(s,a)$ as $i\\to\\infty$. This means that the agent just needs to gradually explore the state-action space and keep updating the estimate of $Q(s,a)$ until it converges to the optimal action-value function $Q^*(s,a)$. However, in cases where the state space is continuous it becomes practically impossible to explore the entire state-action space. Consequently, this also makes it practically impossible to gradually estimate $Q(s,a)$ until it converges to $Q^*(s,a)$.\n",
    "\n",
    "In the Deep $Q$-Learning, we solve this problem by using a neural network to estimate the action-value function $Q(s,a)\\approx Q^*(s,a)$. We call this neural network a $Q$-Network and it can be trained by adjusting its weights at each iteration to minimize the mean-squared error in the Bellman equation.\n",
    "\n",
    "Unfortunately, using neural networks in reinforcement learning to estimate action-value functions has proven to be highly unstable. Luckily, there's a couple of techniques that can be employed to avoid instabilities. These techniques consist of using a ***Target Network*** and ***Experience Replay***. We will explore these two techniques in the following sections."
   ]
  },
  {
   "cell_type": "markdown",
   "metadata": {},
   "source": [
    "<a name=\"6.1\"></a>\n",
    "### 6.1 Target Network\n",
    "\n",
    "We can train the $Q$-Network by adjusting it's weights at each iteration to minimize the mean-squared error in the Bellman equation, where the target values are given by:\n",
    "\n",
    "$$\n",
    "y = R + \\gamma \\max_{a'}Q(s',a';w)\n",
    "$$\n",
    "\n",
    "where $w$ are the weights of the $Q$-Network. This means that we are adjusting the weights $w$ at each iteration to minimize the following error:\n",
    "\n",
    "$$\n",
    "\\overbrace{\\underbrace{R + \\gamma \\max_{a'}Q(s',a'; w)}_{\\rm {y~target}} - Q(s,a;w)}^{\\rm {Error}}\n",
    "$$\n",
    "\n",
    "Notice that this forms a problem because the $y$ target is changing on every iteration. Having a constantly moving target can lead to oscillations and instabilities. To avoid this, we can create\n",
    "a separate neural network for generating the $y$ targets. We call this separate neural network the **target $\\hat Q$-Network** and it will have the same architecture as the original $Q$-Network. By using the target $\\hat Q$-Network, the above error becomes:\n",
    "\n",
    "$$\n",
    "\\overbrace{\\underbrace{R + \\gamma \\max_{a'}\\hat{Q}(s',a'; w^-)}_{\\rm {y~target}} - Q(s,a;w)}^{\\rm {Error}}\n",
    "$$\n",
    "\n",
    "where $w^-$ and $w$ are the weights of the target $\\hat Q$-Network and $Q$-Network, respectively.\n",
    "\n",
    "In practice, we will use the following algorithm: every $C$ time steps we will use the $\\hat Q$-Network to generate the $y$ targets and update the weights of the target $\\hat Q$-Network using the weights of the $Q$-Network. We will update the weights $w^-$ of the the target $\\hat Q$-Network using a **soft update**. This means that we will update the weights $w^-$ using the following rule:\n",
    " \n",
    "$$\n",
    "w^-\\leftarrow \\tau w + (1 - \\tau) w^-\n",
    "$$\n",
    "\n",
    "where $\\tau\\ll 1$. By using the soft update, we are ensuring that the target values, $y$, change slowly, which greatly improves the stability of our learning algorithm."
   ]
  },
  {
   "cell_type": "markdown",
   "metadata": {},
   "source": [
    "<a name=\"ex01\"></a>\n",
    "### Exercise 1\n",
    "\n",
    "In this exercise you will create the $Q$ and target $\\hat Q$ networks and set the optimizer. Remember that the Deep $Q$-Network (DQN) is a neural network that approximates the action-value function $Q(s,a)\\approx Q^*(s,a)$. It does this by learning how to map states to $Q$ values.\n",
    "\n",
    "To solve the Lunar Lander environment, we are going to employ a DQN with the following architecture:\n",
    "\n",
    "* An `Input` layer that takes `state_size` as input.\n",
    "\n",
    "* A `Dense` layer with `64` units and a `relu` activation function.\n",
    "\n",
    "* A `Dense` layer with `64` units and a `relu` activation function.\n",
    "\n",
    "* A `Dense` layer with `num_actions` units and a `linear` activation function. This will be the output layer of our network.\n",
    "\n",
    "\n",
    "In the cell below you should create the $Q$-Network and the target $\\hat Q$-Network using the model architecture described above. Remember that both the $Q$-Network and the target $\\hat Q$-Network have the same architecture.\n",
    "\n",
    "Lastly, you should set `Adam` as the optimizer with a learning rate equal to `ALPHA`. Recall that `ALPHA` was defined in the [Hyperparameters](#2) section. We should note that for this exercise you should use the already imported packages:\n",
    "```python\n",
    "from tensorflow.keras.layers import Dense, Input\n",
    "from tensorflow.keras.optimizers import Adam\n",
    "```"
   ]
  },
  {
   "cell_type": "code",
   "execution_count": 30,
   "metadata": {
    "deletable": false
   },
   "outputs": [],
   "source": [
    "# UNQ_C1\n",
    "# GRADED CELL\n",
    "\n",
    "# Create the Q-Network\n",
    "q_network = Sequential([\n",
    "    ### START CODE HERE ### \n",
    "    Input(shape=state_size),\n",
    "    Dense(64, activation='relu'),\n",
    "    Dense(64, activation='relu'),\n",
    "    Dense(num_actions, activation='linear')\n",
    "    ### END CODE HERE ### \n",
    "    ])\n",
    "\n",
    "# Create the target Q^-Network\n",
    "target_q_network = Sequential([\n",
    "    ### START CODE HERE ### \n",
    "    Input(shape=state_size),\n",
    "    Dense(64, activation='relu'),\n",
    "    Dense(64, activation='relu'),\n",
    "    Dense(num_actions, activation='linear')  \n",
    "    ### END CODE HERE ###\n",
    "    ])\n",
    "\n",
    "### START CODE HERE ### \n",
    "optimizer = Adam(learning_rate=ALPHA)\n",
    "### END CODE HERE ###"
   ]
  },
  {
   "cell_type": "code",
   "execution_count": 31,
   "metadata": {
    "deletable": false,
    "editable": false
   },
   "outputs": [
    {
     "name": "stdout",
     "output_type": "stream",
     "text": [
      "\u001b[92mAll tests passed!\n",
      "\u001b[92mAll tests passed!\n",
      "\u001b[92mAll tests passed!\n"
     ]
    }
   ],
   "source": [
    "# UNIT TEST\n",
    "from public_tests import *\n",
    "\n",
    "test_network(q_network)\n",
    "test_network(target_q_network)\n",
    "test_optimizer(optimizer, ALPHA) "
   ]
  },
  {
   "cell_type": "markdown",
   "metadata": {},
   "source": [
    "<details>\n",
    "  <summary><font size=\"3\" color=\"darkgreen\"><b>Click for hints</b></font></summary>\n",
    "    \n",
    "```python\n",
    "# Create the Q-Network\n",
    "q_network = Sequential([\n",
    "    Input(shape=state_size),                      \n",
    "    Dense(units=64, activation='relu'),            \n",
    "    Dense(units=64, activation='relu'),            \n",
    "    Dense(units=num_actions, activation='linear'),\n",
    "    ])\n",
    "\n",
    "# Create the target Q^-Network\n",
    "target_q_network = Sequential([\n",
    "    Input(shape=state_size),                       \n",
    "    Dense(units=64, activation='relu'),            \n",
    "    Dense(units=64, activation='relu'),            \n",
    "    Dense(units=num_actions, activation='linear'), \n",
    "    ])\n",
    "\n",
    "optimizer = Adam(learning_rate=ALPHA)                                  \n",
    "``` "
   ]
  },
  {
   "cell_type": "markdown",
   "metadata": {},
   "source": [
    "<a name=\"6.2\"></a>\n",
    "### 6.2 Experience Replay\n",
    "\n",
    "When an agent interacts with the environment, the states, actions, and rewards the agent experiences are sequential by nature. If the agent tries to learn from these consecutive experiences it can run into problems due to the strong correlations between them. To avoid this, we employ a technique known as **Experience Replay** to generate uncorrelated experiences for training our agent. Experience replay consists of storing the agent's experiences (i.e the states, actions, and rewards the agent receives) in a memory buffer and then sampling a random mini-batch of experiences from the buffer to do the learning. The experience tuples $(S_t, A_t, R_t, S_{t+1})$ will be added to the memory buffer at each time step as the agent interacts with the environment.\n",
    "\n",
    "For convenience, we will store the experiences as named tuples."
   ]
  },
  {
   "cell_type": "code",
   "execution_count": 32,
   "metadata": {
    "deletable": false,
    "editable": false
   },
   "outputs": [],
   "source": [
    "# Store experiences as named tuples\n",
    "experience = namedtuple(\"Experience\", field_names=[\"state\", \"action\", \"reward\", \"next_state\", \"done\"])"
   ]
  },
  {
   "cell_type": "markdown",
   "metadata": {},
   "source": [
    "By using experience replay we avoid problematic correlations, oscillations and instabilities. In addition, experience replay also allows the agent to potentially use the same experience in multiple weight updates, which increases data efficiency."
   ]
  },
  {
   "cell_type": "markdown",
   "metadata": {},
   "source": [
    "<a name=\"7\"></a>\n",
    "## 7 - Deep Q-Learning Algorithm with Experience Replay\n",
    "\n",
    "Now that we know all the techniques that we are going to use, we can put them together to arrive at the Deep Q-Learning Algorithm With Experience Replay.\n",
    "<br>\n",
    "<br>\n",
    "<figure>\n",
    "  <img src = \"images/deep_q_algorithm.png\" width = 90% style = \"border: thin silver solid; padding: 0px\">\n",
    "      <figcaption style = \"text-align: center; font-style: italic\">Fig 3. Deep Q-Learning with Experience Replay.</figcaption>\n",
    "</figure>"
   ]
  },
  {
   "cell_type": "markdown",
   "metadata": {},
   "source": [
    "<a name=\"ex02\"></a>\n",
    "### Exercise 2\n",
    "\n",
    "In this exercise you will implement line ***12*** of the algorithm outlined in *Fig 3* above and you will also compute the loss between the $y$ targets and the $Q(s,a)$ values. In the cell below, complete the `compute_loss` function by setting the $y$ targets equal to:\n",
    "\n",
    "$$\n",
    "\\begin{equation}\n",
    "    y_j =\n",
    "    \\begin{cases}\n",
    "      R_j & \\text{if episode terminates at step  } j+1\\\\\n",
    "      R_j + \\gamma \\max_{a'}\\hat{Q}(s_{j+1},a') & \\text{otherwise}\\\\\n",
    "    \\end{cases}       \n",
    "\\end{equation}\n",
    "$$\n",
    "\n",
    "Here are a couple of things to note:\n",
    "\n",
    "* The `compute_loss` function takes in a mini-batch of experience tuples. This mini-batch of experience tuples is unpacked to extract the `states`, `actions`, `rewards`, `next_states`, and `done_vals`. You should keep in mind that these variables are *TensorFlow Tensors* whose size will depend on the mini-batch size. For example, if the mini-batch size is `64` then both `rewards` and `done_vals` will be TensorFlow Tensors with `64` elements.\n",
    "\n",
    "\n",
    "* Using `if/else` statements to set the $y$ targets will not work when the variables are tensors with many elements. However, notice that you can use the `done_vals` to implement the above in a single line of code. To do this, recall that the `done` variable is a Boolean variable that takes the value `True` when an episode terminates at step $j+1$ and it is `False` otherwise. Taking into account that a Boolean value of `True` has the numerical value of `1` and a Boolean value of `False` has the numerical value of `0`, you can use the factor `(1 - done_vals)` to implement the above in a single line of code. Here's a hint: notice that `(1 - done_vals)` has a value of `0` when `done_vals` is `True` and a value of `1` when `done_vals` is `False`. \n",
    "\n",
    "Lastly, compute the loss by calculating the Mean-Squared Error (`MSE`) between the `y_targets` and the `q_values`. To calculate the mean-squared error you should use the already imported package `MSE`:\n",
    "```python\n",
    "from tensorflow.keras.losses import MSE\n",
    "```"
   ]
  },
  {
   "cell_type": "code",
   "execution_count": 35,
   "metadata": {
    "deletable": false
   },
   "outputs": [],
   "source": [
    "# UNQ_C2\n",
    "# GRADED FUNCTION: calculate_loss\n",
    "\n",
    "def compute_loss(experiences, gamma, q_network, target_q_network):\n",
    "    \"\"\" \n",
    "    Calculates the loss.\n",
    "    \n",
    "    Args:\n",
    "      experiences: (tuple) tuple of [\"state\", \"action\", \"reward\", \"next_state\", \"done\"] namedtuples\n",
    "      gamma: (float) The discount factor.\n",
    "      q_network: (tf.keras.Sequential) Keras model for predicting the q_values\n",
    "      target_q_network: (tf.keras.Sequential) Keras model for predicting the targets\n",
    "          \n",
    "    Returns:\n",
    "      loss: (TensorFlow Tensor(shape=(0,), dtype=int32)) the Mean-Squared Error between\n",
    "            the y targets and the Q(s,a) values.\n",
    "    \"\"\"\n",
    "\n",
    "    # Unpack the mini-batch of experience tuples\n",
    "    states, actions, rewards, next_states, done_vals = experiences\n",
    "    \n",
    "    # Compute max Q^(s,a)\n",
    "    max_qsa = tf.reduce_max(target_q_network(next_states), axis=-1)\n",
    "    \n",
    "    # Set y = R if episode terminates, otherwise set y = R + γ max Q^(s,a).\n",
    "    ### START CODE HERE ### \n",
    "    y_targets = rewards + (1-done_vals)*gamma*max_qsa\n",
    "    ### END CODE HERE ###\n",
    "    \n",
    "    # Get the q_values and reshape to match y_targets\n",
    "    q_values = q_network(states)\n",
    "    q_values = tf.gather_nd(q_values, tf.stack([tf.range(q_values.shape[0]),\n",
    "                                                tf.cast(actions, tf.int32)], axis=1))\n",
    "        \n",
    "    # Compute the loss\n",
    "    ### START CODE HERE ### \n",
    "    loss = MSE(y_targets,q_values)\n",
    "    ### END CODE HERE ### \n",
    "    \n",
    "    return loss"
   ]
  },
  {
   "cell_type": "code",
   "execution_count": 36,
   "metadata": {
    "deletable": false,
    "editable": false
   },
   "outputs": [
    {
     "name": "stdout",
     "output_type": "stream",
     "text": [
      "\u001b[92mAll tests passed!\n"
     ]
    }
   ],
   "source": [
    "# UNIT TEST    \n",
    "test_compute_loss(compute_loss)"
   ]
  },
  {
   "cell_type": "markdown",
   "metadata": {},
   "source": [
    "<details>\n",
    "  <summary><font size=\"3\" color=\"darkgreen\"><b>Click for hints</b></font></summary>\n",
    "    \n",
    "```python\n",
    "def compute_loss(experiences, gamma, q_network, target_q_network):\n",
    "    \"\"\" \n",
    "    Calculates the loss.\n",
    "    \n",
    "    Args:\n",
    "      experiences: (tuple) tuple of [\"state\", \"action\", \"reward\", \"next_state\", \"done\"] namedtuples\n",
    "      gamma: (float) The discount factor.\n",
    "      q_network: (tf.keras.Sequential) Keras model for predicting the q_values\n",
    "      target_q_network: (tf.keras.Sequential) Keras model for predicting the targets\n",
    "          \n",
    "    Returns:\n",
    "      loss: (TensorFlow Tensor(shape=(0,), dtype=int32)) the Mean-Squared Error between\n",
    "            the y targets and the Q(s,a) values.\n",
    "    \"\"\"\n",
    "\n",
    "    \n",
    "    # Unpack the mini-batch of experience tuples\n",
    "    states, actions, rewards, next_states, done_vals = experiences\n",
    "    \n",
    "    # Compute max Q^(s,a)\n",
    "    max_qsa = tf.reduce_max(target_q_network(next_states), axis=-1)\n",
    "    \n",
    "    # Set y = R if episode terminates, otherwise set y = R + γ max Q^(s,a).\n",
    "    y_targets = rewards + (gamma * max_qsa * (1 - done_vals))\n",
    "    \n",
    "    # Get the q_values\n",
    "    q_values = q_network(states)\n",
    "    q_values = tf.gather_nd(q_values, tf.stack([tf.range(q_values.shape[0]),\n",
    "                                                tf.cast(actions, tf.int32)], axis=1))\n",
    "    \n",
    "    # Calculate the loss\n",
    "    loss = MSE(y_targets, q_values)\n",
    "    \n",
    "    return loss\n",
    "\n",
    "``` \n",
    "    "
   ]
  },
  {
   "cell_type": "markdown",
   "metadata": {},
   "source": [
    "<a name=\"8\"></a>\n",
    "## 8 - Update the Network Weights\n",
    "\n",
    "We will use the `agent_learn` function below to implement lines ***12 -14*** of the algorithm outlined in [Fig 3](#7). The `agent_learn` function will update the weights of the $Q$ and target $\\hat Q$ networks using a custom training loop. Because we are using a custom training loop we need to retrieve the gradients via a `tf.GradientTape` instance, and then call `optimizer.apply_gradients()` to update the weights of our $Q$-Network. Note that we are also using the `@tf.function` decorator to increase performance. Without this decorator our training will take twice as long. If you would like to know more about how to increase performance with `@tf.function` take a look at the [TensorFlow documentation](https://www.tensorflow.org/guide/function).\n",
    "\n",
    "The last line of this function updates the weights of the target $\\hat Q$-Network using a [soft update](#6.1). If you want to know how this is implemented in code we encourage you to take a look at the `utils.update_target_network` function in the `utils` module."
   ]
  },
  {
   "cell_type": "code",
   "execution_count": 37,
   "metadata": {
    "deletable": false,
    "editable": false
   },
   "outputs": [],
   "source": [
    "@tf.function\n",
    "def agent_learn(experiences, gamma):\n",
    "    \"\"\"\n",
    "    Updates the weights of the Q networks.\n",
    "    \n",
    "    Args:\n",
    "      experiences: (tuple) tuple of [\"state\", \"action\", \"reward\", \"next_state\", \"done\"] namedtuples\n",
    "      gamma: (float) The discount factor.\n",
    "    \n",
    "    \"\"\"\n",
    "    \n",
    "    # Calculate the loss\n",
    "    with tf.GradientTape() as tape:\n",
    "        loss = compute_loss(experiences, gamma, q_network, target_q_network)\n",
    "\n",
    "    # Get the gradients of the loss with respect to the weights.\n",
    "    gradients = tape.gradient(loss, q_network.trainable_variables)\n",
    "    \n",
    "    # Update the weights of the q_network.\n",
    "    optimizer.apply_gradients(zip(gradients, q_network.trainable_variables))\n",
    "\n",
    "    # update the weights of target q_network\n",
    "    utils.update_target_network(q_network, target_q_network)"
   ]
  },
  {
   "cell_type": "markdown",
   "metadata": {},
   "source": [
    "<a name=\"9\"></a>\n",
    "## 9 - Train the Agent\n",
    "\n",
    "We are now ready to train our agent to solve the Lunar Lander environment. In the cell below we will implement the algorithm in [Fig 3](#7) line by line (please note that we have included the same algorithm below for easy reference. This will prevent you from scrolling up and down the notebook):\n",
    "\n",
    "* **Line 1**: We initialize the `memory_buffer` with a capacity of $N =$ `MEMORY_SIZE`. Notice that we are using a `deque` as the data structure for our `memory_buffer`.\n",
    "\n",
    "\n",
    "* **Line 2**: We skip this line since we already initialized the `q_network` in [Exercise 1](#ex01).\n",
    "\n",
    "\n",
    "* **Line 3**: We initialize the `target_q_network` by setting its weights to be equal to those of the `q_network`.\n",
    "\n",
    "\n",
    "* **Line 4**: We start the outer loop. Notice that we have set $M =$ `num_episodes = 2000`. This number is reasonable because the agent should be able to solve the Lunar Lander environment in less than `2000` episodes using this notebook's default parameters.\n",
    "\n",
    "\n",
    "* **Line 5**: We use the `.reset()` method to reset the environment to the initial state and get the initial state.\n",
    "\n",
    "\n",
    "* **Line 6**: We start the inner loop. Notice that we have set $T =$ `max_num_timesteps = 1000`. This means that the episode will automatically terminate if the episode hasn't terminated after `1000` time steps.\n",
    "\n",
    "\n",
    "* **Line 7**: The agent observes the current `state` and chooses an `action` using an $\\epsilon$-greedy policy. Our agent starts out using a value of $\\epsilon =$ `epsilon = 1` which yields an $\\epsilon$-greedy policy that is equivalent to the equiprobable random policy. This means that at the beginning of our training, the agent is just going to take random actions regardless of the observed `state`. As training progresses we will decrease the value of $\\epsilon$ slowly towards a minimum value using a given $\\epsilon$-decay rate. We want this minimum value to be close to zero because a value of $\\epsilon = 0$ will yield an $\\epsilon$-greedy policy that is equivalent to the greedy policy. This means that towards the end of training, the agent will lean towards selecting the `action` that it believes (based on its past experiences) will maximize $Q(s,a)$. We will set the minimum $\\epsilon$ value to be `0.01` and not exactly 0 because we always want to keep a little bit of exploration during training. If you want to know how this is implemented in code we encourage you to take a look at the `utils.get_action` function in the `utils` module.\n",
    "\n",
    "\n",
    "* **Line 8**: We use the `.step()` method to take the given `action` in the environment and get the `reward` and the `next_state`. \n",
    "\n",
    "\n",
    "* **Line 9**: We store the `experience(state, action, reward, next_state, done)` tuple in our `memory_buffer`. Notice that we also store the `done` variable so that we can keep track of when an episode terminates. This allowed us to set the $y$ targets in [Exercise 2](#ex02).\n",
    "\n",
    "\n",
    "* **Line 10**: We check if the conditions are met to perform a learning update. We do this by using our custom `utils.check_update_conditions` function. This function checks if $C =$ `NUM_STEPS_FOR_UPDATE = 4` time steps have occured and if our `memory_buffer` has enough experience tuples to fill a mini-batch. For example, if the mini-batch size is `64`, then our `memory_buffer` should have more than `64` experience tuples in order to pass the latter condition. If the conditions are met, then the `utils.check_update_conditions` function will return a value of `True`, otherwise it will return a value of `False`.\n",
    "\n",
    "\n",
    "* **Lines 11 - 14**: If the `update` variable is `True` then we perform a learning update. The learning update consists of sampling a random mini-batch of experience tuples from our `memory_buffer`, setting the $y$ targets, performing gradient descent, and updating the weights of the networks. We will use the `agent_learn` function we defined in [Section 8](#8) to perform the latter 3.\n",
    "\n",
    "\n",
    "* **Line 15**: At the end of each iteration of the inner loop we set `next_state` as our new `state` so that the loop can start again from this new state. In addition, we check if the episode has reached a terminal state (i.e we check if `done = True`). If a terminal state has been reached, then we break out of the inner loop.\n",
    "\n",
    "\n",
    "* **Line 16**: At the end of each iteration of the outer loop we update the value of $\\epsilon$, and check if the environment has been solved. We consider that the environment has been solved if the agent receives an average of `200` points in the last `100` episodes. If the environment has not been solved we continue the outer loop and start a new episode.\n",
    "\n",
    "Finally, we wanted to note that we have included some extra variables to keep track of the total number of points the agent received in each episode. This will help us determine if the agent has solved the environment and it will also allow us to see how our agent performed during training. We also use the `time` module to measure how long the training takes. \n",
    "\n",
    "<br>\n",
    "<br>\n",
    "<figure>\n",
    "  <img src = \"images/deep_q_algorithm.png\" width = 90% style = \"border: thin silver solid; padding: 0px\">\n",
    "      <figcaption style = \"text-align: center; font-style: italic\">Fig 4. Deep Q-Learning with Experience Replay.</figcaption>\n",
    "</figure>\n",
    "<br>\n",
    "\n",
    "**Note:** With this notebook's default parameters, the following cell takes between 10 to 15 minutes to run. "
   ]
  },
  {
   "cell_type": "code",
   "execution_count": 38,
   "metadata": {
    "deletable": false,
    "editable": false
   },
   "outputs": [
    {
     "name": "stdout",
     "output_type": "stream",
     "text": [
      "Episode 100 | Total point average of the last 100 episodes: -181.84\n",
      "Episode 200 | Total point average of the last 100 episodes: -80.922\n",
      "Episode 300 | Total point average of the last 100 episodes: -61.77\n",
      "Episode 400 | Total point average of the last 100 episodes: 49.864\n",
      "Episode 500 | Total point average of the last 100 episodes: 148.44\n",
      "Episode 600 | Total point average of the last 100 episodes: 127.97\n",
      "Episode 700 | Total point average of the last 100 episodes: 182.00\n",
      "Episode 727 | Total point average of the last 100 episodes: 201.72\n",
      "\n",
      "Environment solved in 727 episodes!\n",
      "\n",
      "Total Runtime: 931.81 s (15.53 min)\n"
     ]
    }
   ],
   "source": [
    "start = time.time()\n",
    "\n",
    "num_episodes = 2000\n",
    "max_num_timesteps = 1000\n",
    "\n",
    "total_point_history = []\n",
    "\n",
    "num_p_av = 100    # number of total points to use for averaging\n",
    "epsilon = 1.0     # initial ε value for ε-greedy policy\n",
    "\n",
    "# Create a memory buffer D with capacity N\n",
    "memory_buffer = deque(maxlen=MEMORY_SIZE)\n",
    "\n",
    "# Set the target network weights equal to the Q-Network weights\n",
    "target_q_network.set_weights(q_network.get_weights())\n",
    "\n",
    "for i in range(num_episodes):\n",
    "    \n",
    "    # Reset the environment to the initial state and get the initial state\n",
    "    state = env.reset()\n",
    "    total_points = 0\n",
    "    \n",
    "    for t in range(max_num_timesteps):\n",
    "        \n",
    "        # From the current state S choose an action A using an ε-greedy policy\n",
    "        state_qn = np.expand_dims(state, axis=0)  # state needs to be the right shape for the q_network\n",
    "        q_values = q_network(state_qn)\n",
    "        action = utils.get_action(q_values, epsilon)\n",
    "        \n",
    "        # Take action A and receive reward R and the next state S'\n",
    "        next_state, reward, done, _ = env.step(action)\n",
    "        \n",
    "        # Store experience tuple (S,A,R,S') in the memory buffer.\n",
    "        # We store the done variable as well for convenience.\n",
    "        memory_buffer.append(experience(state, action, reward, next_state, done))\n",
    "        \n",
    "        # Only update the network every NUM_STEPS_FOR_UPDATE time steps.\n",
    "        update = utils.check_update_conditions(t, NUM_STEPS_FOR_UPDATE, memory_buffer)\n",
    "        \n",
    "        if update:\n",
    "            # Sample random mini-batch of experience tuples (S,A,R,S') from D\n",
    "            experiences = utils.get_experiences(memory_buffer)\n",
    "            \n",
    "            # Set the y targets, perform a gradient descent step,\n",
    "            # and update the network weights.\n",
    "            agent_learn(experiences, GAMMA)\n",
    "        \n",
    "        state = next_state.copy()\n",
    "        total_points += reward\n",
    "        \n",
    "        if done:\n",
    "            break\n",
    "            \n",
    "    total_point_history.append(total_points)\n",
    "    av_latest_points = np.mean(total_point_history[-num_p_av:])\n",
    "    \n",
    "    # Update the ε value\n",
    "    epsilon = utils.get_new_eps(epsilon)\n",
    "\n",
    "    print(f\"\\rEpisode {i+1} | Total point average of the last {num_p_av} episodes: {av_latest_points:.2f}\", end=\"\")\n",
    "\n",
    "    if (i+1) % num_p_av == 0:\n",
    "        print(f\"\\rEpisode {i+1} | Total point average of the last {num_p_av} episodes: {av_latest_points:.2f}\")\n",
    "\n",
    "    # We will consider that the environment is solved if we get an\n",
    "    # average of 200 points in the last 100 episodes.\n",
    "    if av_latest_points >= 200.0:\n",
    "        print(f\"\\n\\nEnvironment solved in {i+1} episodes!\")\n",
    "        q_network.save('lunar_lander_model.h5')\n",
    "        break\n",
    "        \n",
    "tot_time = time.time() - start\n",
    "\n",
    "print(f\"\\nTotal Runtime: {tot_time:.2f} s ({(tot_time/60):.2f} min)\")"
   ]
  },
  {
   "cell_type": "markdown",
   "metadata": {},
   "source": [
    "We can plot the total point history along with the moving average to see how our agent improved during training. If you want to know about the different plotting options available in the `utils.plot_history` function we encourage you to take a look at the `utils` module."
   ]
  },
  {
   "cell_type": "code",
   "execution_count": null,
   "metadata": {
    "deletable": false,
    "editable": false,
    "id": "E_EUXxurfe8m",
    "scrolled": false
   },
   "outputs": [],
   "source": [
    "# Plot the total point history along with the moving average\n",
    "utils.plot_history(total_point_history)"
   ]
  },
  {
   "cell_type": "markdown",
   "metadata": {
    "id": "c_xwgaX5MnYt"
   },
   "source": [
    "<a name=\"10\"></a>\n",
    "## 10 - See the Trained Agent In Action\n",
    "\n",
    "Now that we have trained our agent, we can see it in action. We will use the `utils.create_video` function to create a video of our agent interacting with the environment using the trained $Q$-Network. The `utils.create_video` function uses the `imageio` library to create the video. This library produces some warnings that can be distracting, so, to suppress these warnings we run the code below."
   ]
  },
  {
   "cell_type": "code",
   "execution_count": 39,
   "metadata": {
    "deletable": false,
    "editable": false
   },
   "outputs": [],
   "source": [
    "# Suppress warnings from imageio\n",
    "import logging\n",
    "logging.getLogger().setLevel(logging.ERROR)"
   ]
  },
  {
   "cell_type": "markdown",
   "metadata": {},
   "source": [
    "In the cell below we create a video of our agent interacting with the Lunar Lander environment using the trained `q_network`. The video is saved to the `videos` folder with the given `filename`. We use the `utils.embed_mp4` function to embed the video in the Jupyter Notebook so that we can see it here directly without having to download it.\n",
    "\n",
    "We should note that since the lunar lander starts with a random initial force applied to its center of mass, every time you run the cell below you will see a different video. If the agent was trained properly, it should be able to land the lunar lander in the landing pad every time, regardless of the initial force applied to its center of mass."
   ]
  },
  {
   "cell_type": "code",
   "execution_count": 41,
   "metadata": {
    "deletable": false,
    "editable": false,
    "id": "3Ttb_zLeJKiG"
   },
   "outputs": [
    {
     "data": {
      "text/html": [
       "\n",
       "    <video width=\"840\" height=\"480\" controls>\n",
       "    <source src=\"data:video/mp4;base64,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\" type=\"video/mp4\">\n",
       "    Your browser does not support the video tag.\n",
       "    </video>"
      ],
      "text/plain": [
       "<IPython.core.display.HTML object>"
      ]
     },
     "execution_count": 41,
     "metadata": {},
     "output_type": "execute_result"
    }
   ],
   "source": [
    "filename = \"./videos/lunar_lander.mp4\"\n",
    "\n",
    "utils.create_video(filename, env, q_network)\n",
    "utils.embed_mp4(filename)"
   ]
  },
  {
   "cell_type": "markdown",
   "metadata": {},
   "source": [
    "<a name=\"11\"></a>\n",
    "## 11 - Congratulations!\n",
    "\n",
    "You have successfully used Deep Q-Learning with Experience Replay to train an agent to land a lunar lander safely on a landing pad on the surface of the moon. Congratulations!"
   ]
  },
  {
   "cell_type": "markdown",
   "metadata": {},
   "source": [
    "<a name=\"12\"></a>\n",
    "## 12 - References\n",
    "\n",
    "If you would like to learn more about Deep Q-Learning, we recommend you check out the following papers.\n",
    "\n",
    "\n",
    "* Mnih, V., Kavukcuoglu, K., Silver, D. et al. Human-level control through deep reinforcement learning. Nature 518, 529–533 (2015).\n",
    "\n",
    "\n",
    "* Lillicrap, T. P., Hunt, J. J., Pritzel, A., et al. Continuous Control with Deep Reinforcement Learning. ICLR (2016).\n",
    "\n",
    "\n",
    "* Mnih, V., Kavukcuoglu, K., Silver, D. et al. Playing Atari with Deep Reinforcement Learning. arXiv e-prints.  arXiv:1312.5602 (2013)."
   ]
  },
  {
   "cell_type": "markdown",
   "metadata": {},
   "source": [
    "<details>\n",
    "  <summary><font size=\"2\" color=\"darkgreen\"><b>Please click here if you want to experiment with any of the non-graded code.</b></font></summary>\n",
    "    <p><i><b>Important Note: Please only do this when you've already passed the assignment to avoid problems with the autograder.</b></i>\n",
    "    <ol>\n",
    "        <li> On the notebook’s menu, click “View” > “Cell Toolbar” > “Edit Metadata”</li>\n",
    "        <li> Hit the “Edit Metadata” button next to the code cell which you want to lock/unlock</li>\n",
    "        <li> Set the attribute value for “editable” to:\n",
    "            <ul>\n",
    "                <li> “true” if you want to unlock it </li>\n",
    "                <li> “false” if you want to lock it </li>\n",
    "            </ul>\n",
    "        </li>\n",
    "        <li> On the notebook’s menu, click “View” > “Cell Toolbar” > “None” </li>\n",
    "    </ol>\n",
    "    <p> Here's a short demo of how to do the steps above: \n",
    "        <br>\n",
    "        <img src=\"https://drive.google.com/uc?export=view&id=14Xy_Mb17CZVgzVAgq7NCjMVBvSae3xO1\" align=\"center\" alt=\"unlock_cells.gif\">\n",
    "</details>"
   ]
  }
 ],
 "metadata": {
  "accelerator": "GPU",
  "colab": {
   "collapsed_sections": [],
   "name": "TensorFlow - Lunar Lander.ipynb",
   "provenance": []
  },
  "kernelspec": {
   "display_name": "Python 3",
   "language": "python",
   "name": "python3"
  },
  "language_info": {
   "codemirror_mode": {
    "name": "ipython",
    "version": 3
   },
   "file_extension": ".py",
   "mimetype": "text/x-python",
   "name": "python",
   "nbconvert_exporter": "python",
   "pygments_lexer": "ipython3",
   "version": "3.7.6"
  }
 },
 "nbformat": 4,
 "nbformat_minor": 1
}
